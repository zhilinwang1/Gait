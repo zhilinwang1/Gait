{
  "nbformat": 4,
  "nbformat_minor": 0,
  "metadata": {
    "accelerator": "GPU",
    "colab": {
      "name": "“COLAB_DLC_ModelZoo_ipynb”的副本.ipynb",
      "provenance": [],
      "collapsed_sections": []
    },
    "kernelspec": {
      "display_name": "Python 3",
      "language": "python",
      "name": "python3"
    },
    "language_info": {
      "codemirror_mode": {
        "name": "ipython",
        "version": 3
      },
      "file_extension": ".py",
      "mimetype": "text/x-python",
      "name": "python",
      "nbconvert_exporter": "python",
      "pygments_lexer": "ipython3",
      "version": "3.7.7"
    },
    "widgets": {
      "application/vnd.jupyter.widget-state+json": {
        "2b37297848304eb0b8b81ad7c2fcfa29": {
          "model_module": "@jupyter-widgets/controls",
          "model_name": "DropdownModel",
          "state": {
            "_options_labels": [
              "full_human",
              "full_cat",
              "full_dog",
              "primate_face",
              "mouse_pupil_vclose"
            ],
            "_view_name": "DropdownView",
            "style": "IPY_MODEL_96b24dfe021e44b8ad4facfd0e0e81aa",
            "_dom_classes": [],
            "description": "Choose a DLC ModelZoo model!",
            "_model_name": "DropdownModel",
            "index": 2,
            "_view_module": "@jupyter-widgets/controls",
            "_model_module_version": "1.5.0",
            "_view_count": null,
            "disabled": false,
            "_view_module_version": "1.5.0",
            "description_tooltip": null,
            "_model_module": "@jupyter-widgets/controls",
            "layout": "IPY_MODEL_b6c699bc0c2542eca16e282bca6fc520"
          }
        },
        "96b24dfe021e44b8ad4facfd0e0e81aa": {
          "model_module": "@jupyter-widgets/controls",
          "model_name": "DescriptionStyleModel",
          "state": {
            "_view_name": "StyleView",
            "_model_name": "DescriptionStyleModel",
            "description_width": "",
            "_view_module": "@jupyter-widgets/base",
            "_model_module_version": "1.5.0",
            "_view_count": null,
            "_view_module_version": "1.2.0",
            "_model_module": "@jupyter-widgets/controls"
          }
        },
        "b6c699bc0c2542eca16e282bca6fc520": {
          "model_module": "@jupyter-widgets/base",
          "model_name": "LayoutModel",
          "state": {
            "_view_name": "LayoutView",
            "grid_template_rows": null,
            "right": null,
            "justify_content": null,
            "_view_module": "@jupyter-widgets/base",
            "overflow": null,
            "_model_module_version": "1.2.0",
            "_view_count": null,
            "flex_flow": null,
            "width": null,
            "min_width": null,
            "border": null,
            "align_items": null,
            "bottom": null,
            "_model_module": "@jupyter-widgets/base",
            "top": null,
            "grid_column": null,
            "overflow_y": null,
            "overflow_x": null,
            "grid_auto_flow": null,
            "grid_area": null,
            "grid_template_columns": null,
            "flex": null,
            "_model_name": "LayoutModel",
            "justify_items": null,
            "grid_row": null,
            "max_height": null,
            "align_content": null,
            "visibility": null,
            "align_self": null,
            "height": null,
            "min_height": null,
            "padding": null,
            "grid_auto_rows": null,
            "grid_gap": null,
            "max_width": null,
            "order": null,
            "_view_module_version": "1.2.0",
            "grid_template_areas": null,
            "object_position": null,
            "object_fit": null,
            "grid_auto_columns": null,
            "margin": null,
            "display": null,
            "left": null
          }
        }
      }
    }
  },
  "cells": [
    {
      "cell_type": "markdown",
      "metadata": {
        "id": "RK255E7YoEIt"
      },
      "source": [
        "# **DeepLabCut Model Zoo:**\n",
        "\n",
        "http://www.mousemotorlab.org/dlc-modelzoo\n",
        "\n",
        "You can use this notebook to analyze videos with pretrained networks from our model zoo - NO local installation of DeepLabCut is needed! \n",
        "\n",
        "- **What you need:** a video of your favorite dog, cat, etc: check the list of currently available models here: http://www.mousemotorlab.org/dlc-modelzoo \n",
        "\n",
        "- **What to do:** hit run on each cell below and follow the instructions!\n",
        "\n",
        "- **If you performance is less that you would like:** firstly check the labeled_video parameters (i.e. \"pcutoff\" in the config.yaml file that will set the video plotting) - see the end of this notebook. \n",
        "\n",
        "  * *Otherwise, please consider labeling data to help make each network even better! See instructions here: http://www.mousemotorlab.org/dlc-modelzoo - this is our great experiment on community-sourced open-science!*\n",
        "\n",
        "\n",
        "Let's get going! \n",
        "\n",
        "## **Let's install DeepLabCut into COLAB:**\n",
        "\n",
        "*Also, be sure you are connected to a GPU: go to menu, click Runtime > Change Runtime Type > select \"GPU\"*"
      ]
    },
    {
      "cell_type": "code",
      "metadata": {
        "id": "q23BzhA6CXxu",
        "outputId": "b9f59b24-44c4-4e3c-bfe0-25660396bdde",
        "colab": {
          "base_uri": "https://localhost:8080/",
          "height": 1000
        }
      },
      "source": [
        "#click the play icon (this will take a few minutes to install all the dependences!)\n",
        "!pip install deeplabcut\n",
        "%reload_ext numpy\n",
        "%reload_ext matplotlib\n",
        "%reload_ext mpl_toolkits"
      ],
      "execution_count": null,
      "outputs": [
        {
          "output_type": "stream",
          "text": [
            "Requirement already satisfied: deeplabcut in /usr/local/lib/python3.6/dist-packages (2.1.8.2)\n",
            "Requirement already satisfied: matplotlib==3.0.3 in /usr/local/lib/python3.6/dist-packages (from deeplabcut) (3.0.3)\n",
            "Requirement already satisfied: ruamel.yaml~=0.15 in /usr/local/lib/python3.6/dist-packages (from deeplabcut) (0.16.12)\n",
            "Requirement already satisfied: moviepy<=1.0.1 in /usr/local/lib/python3.6/dist-packages (from deeplabcut) (0.2.3.5)\n",
            "Requirement already satisfied: opencv-python~=3.4 in /usr/local/lib/python3.6/dist-packages (from deeplabcut) (3.4.11.43)\n",
            "Requirement already satisfied: setuptools in /usr/local/lib/python3.6/dist-packages (from deeplabcut) (50.3.0)\n",
            "Requirement already satisfied: ipython in /usr/local/lib/python3.6/dist-packages (from deeplabcut) (5.5.0)\n",
            "Requirement already satisfied: imgaug in /usr/local/lib/python3.6/dist-packages (from deeplabcut) (0.2.9)\n",
            "Requirement already satisfied: wheel in /usr/local/lib/python3.6/dist-packages (from deeplabcut) (0.35.1)\n",
            "Requirement already satisfied: scipy in /usr/local/lib/python3.6/dist-packages (from deeplabcut) (1.4.1)\n",
            "Requirement already satisfied: intel-openmp in /usr/local/lib/python3.6/dist-packages (from deeplabcut) (2020.0.133)\n",
            "Requirement already satisfied: patsy in /usr/local/lib/python3.6/dist-packages (from deeplabcut) (0.5.1)\n",
            "Requirement already satisfied: certifi in /usr/local/lib/python3.6/dist-packages (from deeplabcut) (2020.6.20)\n",
            "Requirement already satisfied: requests in /usr/local/lib/python3.6/dist-packages (from deeplabcut) (2.23.0)\n",
            "Requirement already satisfied: tables in /usr/local/lib/python3.6/dist-packages (from deeplabcut) (3.4.4)\n",
            "Requirement already satisfied: click in /usr/local/lib/python3.6/dist-packages (from deeplabcut) (7.1.2)\n",
            "Requirement already satisfied: h5py~=2.7 in /usr/local/lib/python3.6/dist-packages (from deeplabcut) (2.10.0)\n",
            "Requirement already satisfied: python-dateutil in /usr/local/lib/python3.6/dist-packages (from deeplabcut) (2.8.1)\n",
            "Requirement already satisfied: pyyaml>=5.1 in /usr/local/lib/python3.6/dist-packages (from deeplabcut) (5.3.1)\n",
            "Requirement already satisfied: six in /usr/local/lib/python3.6/dist-packages (from deeplabcut) (1.15.0)\n",
            "Requirement already satisfied: ipython-genutils in /usr/local/lib/python3.6/dist-packages (from deeplabcut) (0.2.0)\n",
            "Requirement already satisfied: scikit-learn in /usr/local/lib/python3.6/dist-packages (from deeplabcut) (0.22.2.post1)\n",
            "Requirement already satisfied: statsmodels in /usr/local/lib/python3.6/dist-packages (from deeplabcut) (0.10.2)\n",
            "Requirement already satisfied: pandas>=1.0. in /usr/local/lib/python3.6/dist-packages (from deeplabcut) (1.1.2)\n",
            "Requirement already satisfied: easydict in /usr/local/lib/python3.6/dist-packages (from deeplabcut) (1.9)\n",
            "Requirement already satisfied: tensorpack>=0.9.7.1 in /usr/local/lib/python3.6/dist-packages (from deeplabcut) (0.10.1)\n",
            "Requirement already satisfied: scikit-image in /usr/local/lib/python3.6/dist-packages (from deeplabcut) (0.16.2)\n",
            "Requirement already satisfied: numpy==1.16.4 in /usr/local/lib/python3.6/dist-packages (from deeplabcut) (1.16.4)\n",
            "Requirement already satisfied: chardet in /usr/local/lib/python3.6/dist-packages (from deeplabcut) (3.0.4)\n",
            "Requirement already satisfied: tqdm in /usr/local/lib/python3.6/dist-packages (from deeplabcut) (4.41.1)\n",
            "Requirement already satisfied: kiwisolver>=1.0.1 in /usr/local/lib/python3.6/dist-packages (from matplotlib==3.0.3->deeplabcut) (1.2.0)\n",
            "Requirement already satisfied: cycler>=0.10 in /usr/local/lib/python3.6/dist-packages (from matplotlib==3.0.3->deeplabcut) (0.10.0)\n",
            "Requirement already satisfied: pyparsing!=2.0.4,!=2.1.2,!=2.1.6,>=2.0.1 in /usr/local/lib/python3.6/dist-packages (from matplotlib==3.0.3->deeplabcut) (2.4.7)\n",
            "Requirement already satisfied: ruamel.yaml.clib>=0.1.2; platform_python_implementation == \"CPython\" and python_version < \"3.9\" in /usr/local/lib/python3.6/dist-packages (from ruamel.yaml~=0.15->deeplabcut) (0.2.2)\n",
            "Requirement already satisfied: imageio<3.0,>=2.1.2 in /usr/local/lib/python3.6/dist-packages (from moviepy<=1.0.1->deeplabcut) (2.4.1)\n",
            "Requirement already satisfied: decorator<5.0,>=4.0.2 in /usr/local/lib/python3.6/dist-packages (from moviepy<=1.0.1->deeplabcut) (4.4.2)\n",
            "Requirement already satisfied: pygments in /usr/local/lib/python3.6/dist-packages (from ipython->deeplabcut) (2.6.1)\n",
            "Requirement already satisfied: prompt-toolkit<2.0.0,>=1.0.4 in /usr/local/lib/python3.6/dist-packages (from ipython->deeplabcut) (1.0.18)\n",
            "Requirement already satisfied: pickleshare in /usr/local/lib/python3.6/dist-packages (from ipython->deeplabcut) (0.7.5)\n",
            "Requirement already satisfied: simplegeneric>0.8 in /usr/local/lib/python3.6/dist-packages (from ipython->deeplabcut) (0.8.1)\n",
            "Requirement already satisfied: traitlets>=4.2 in /usr/local/lib/python3.6/dist-packages (from ipython->deeplabcut) (4.3.3)\n",
            "Requirement already satisfied: pexpect; sys_platform != \"win32\" in /usr/local/lib/python3.6/dist-packages (from ipython->deeplabcut) (4.8.0)\n",
            "Requirement already satisfied: Shapely in /usr/local/lib/python3.6/dist-packages (from imgaug->deeplabcut) (1.7.1)\n",
            "Requirement already satisfied: Pillow in /usr/local/lib/python3.6/dist-packages (from imgaug->deeplabcut) (7.0.0)\n",
            "Requirement already satisfied: urllib3!=1.25.0,!=1.25.1,<1.26,>=1.21.1 in /usr/local/lib/python3.6/dist-packages (from requests->deeplabcut) (1.24.3)\n",
            "Requirement already satisfied: idna<3,>=2.5 in /usr/local/lib/python3.6/dist-packages (from requests->deeplabcut) (2.10)\n",
            "Requirement already satisfied: numexpr>=2.5.2 in /usr/local/lib/python3.6/dist-packages (from tables->deeplabcut) (2.7.1)\n",
            "Requirement already satisfied: joblib>=0.11 in /usr/local/lib/python3.6/dist-packages (from scikit-learn->deeplabcut) (0.16.0)\n",
            "Requirement already satisfied: pytz>=2017.2 in /usr/local/lib/python3.6/dist-packages (from pandas>=1.0.->deeplabcut) (2018.9)\n",
            "Requirement already satisfied: psutil>=5 in /usr/local/lib/python3.6/dist-packages (from tensorpack>=0.9.7.1->deeplabcut) (5.4.8)\n",
            "Requirement already satisfied: tabulate>=0.7.7 in /usr/local/lib/python3.6/dist-packages (from tensorpack>=0.9.7.1->deeplabcut) (0.8.7)\n",
            "Requirement already satisfied: msgpack-numpy>=0.4.4.2 in /usr/local/lib/python3.6/dist-packages (from tensorpack>=0.9.7.1->deeplabcut) (0.4.7.1)\n",
            "Requirement already satisfied: msgpack>=0.5.2 in /usr/local/lib/python3.6/dist-packages (from tensorpack>=0.9.7.1->deeplabcut) (1.0.0)\n",
            "Requirement already satisfied: termcolor>=1.1 in /usr/local/lib/python3.6/dist-packages (from tensorpack>=0.9.7.1->deeplabcut) (1.1.0)\n",
            "Requirement already satisfied: pyzmq>=16 in /usr/local/lib/python3.6/dist-packages (from tensorpack>=0.9.7.1->deeplabcut) (19.0.2)\n",
            "Requirement already satisfied: networkx>=2.0 in /usr/local/lib/python3.6/dist-packages (from scikit-image->deeplabcut) (2.5)\n",
            "Requirement already satisfied: PyWavelets>=0.4.0 in /usr/local/lib/python3.6/dist-packages (from scikit-image->deeplabcut) (1.1.1)\n",
            "Requirement already satisfied: wcwidth in /usr/local/lib/python3.6/dist-packages (from prompt-toolkit<2.0.0,>=1.0.4->ipython->deeplabcut) (0.2.5)\n",
            "Requirement already satisfied: ptyprocess>=0.5 in /usr/local/lib/python3.6/dist-packages (from pexpect; sys_platform != \"win32\"->ipython->deeplabcut) (0.6.0)\n"
          ],
          "name": "stdout"
        }
      ]
    },
    {
      "cell_type": "code",
      "metadata": {
        "id": "Jw4xz2xy2dAo"
      },
      "source": [
        "# Use TensorFlow 1.x:\n",
        "%tensorflow_version 1.x"
      ],
      "execution_count": null,
      "outputs": []
    },
    {
      "cell_type": "markdown",
      "metadata": {
        "id": "ZT4PwGSbYQEO"
      },
      "source": [
        "## Now let's set the backend & import the DeepLabCut package:"
      ]
    },
    {
      "cell_type": "code",
      "metadata": {
        "id": "bvoiWefrYQEP"
      },
      "source": [
        "#GUIs don't work on the cloud, so we supress them:\n",
        "import os\n",
        "os.environ[\"DLClight\"]=\"True\"\n",
        "\n",
        "# stifle tensorflow warnings, like we get it already.\n",
        "os.environ['TF_CPP_MIN_LOG_LEVEL'] = '2'\n",
        "\n",
        "import deeplabcut"
      ],
      "execution_count": null,
      "outputs": []
    },
    {
      "cell_type": "markdown",
      "metadata": {
        "id": "syweXs88tyuO"
      },
      "source": [
        "## Next, run the cell below to upload your video file from your computer:"
      ]
    },
    {
      "cell_type": "code",
      "metadata": {
        "id": "7eqEZYs_CaLy",
        "outputId": "d2ba63ca-ad62-464b-be60-8a7f9ba292da",
        "colab": {
          "resources": {
            "http://localhost:8080/nbextensions/google.colab/files.js": {
              "data": "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",
              "ok": true,
              "headers": [
                [
                  "content-type",
                  "application/javascript"
                ]
              ],
              "status": 200,
              "status_text": ""
            }
          },
          "base_uri": "https://localhost:8080/",
          "height": 93
        }
      },
      "source": [
        "from google.colab import files\n",
        "uploaded = files.upload()\n",
        "for fn in uploaded.keys():\n",
        "  print('User uploaded file \"{video_path}\" with length {length} bytes'.format(\n",
        "      video_path=fn, length=len(uploaded[fn])))\n",
        "  video_path = fn"
      ],
      "execution_count": null,
      "outputs": [
        {
          "output_type": "display_data",
          "data": {
            "text/html": [
              "\n",
              "     <input type=\"file\" id=\"files-2c875580-1f64-4ed2-9251-a228917c5750\" name=\"files[]\" multiple disabled\n",
              "        style=\"border:none\" />\n",
              "     <output id=\"result-2c875580-1f64-4ed2-9251-a228917c5750\">\n",
              "      Upload widget is only available when the cell has been executed in the\n",
              "      current browser session. Please rerun this cell to enable.\n",
              "      </output>\n",
              "      <script src=\"/nbextensions/google.colab/files.js\"></script> "
            ],
            "text/plain": [
              "<IPython.core.display.HTML object>"
            ]
          },
          "metadata": {
            "tags": []
          }
        },
        {
          "output_type": "stream",
          "text": [
            "Saving 20150813ISA_DSC_3557.MOV to 20150813ISA_DSC_3557.MOV\n",
            "User uploaded file \"20150813ISA_DSC_3557.MOV\" with length 30480741 bytes\n"
          ],
          "name": "stdout"
        }
      ]
    },
    {
      "cell_type": "markdown",
      "metadata": {
        "id": "YsaqOTkZtf-w"
      },
      "source": [
        "## Select your model from the dropdown menu, then below (optionally) input the name you want for the project:\n"
      ]
    },
    {
      "cell_type": "code",
      "metadata": {
        "id": "Ih0t7lUjYQEd",
        "outputId": "66332bc8-50e6-4084-ca89-a0d13af637c9",
        "colab": {
          "base_uri": "https://localhost:8080/",
          "height": 49,
          "referenced_widgets": [
            "2b37297848304eb0b8b81ad7c2fcfa29",
            "96b24dfe021e44b8ad4facfd0e0e81aa",
            "b6c699bc0c2542eca16e282bca6fc520"
          ]
        }
      },
      "source": [
        "import ipywidgets as widgets\n",
        "from IPython.display import display\n",
        "model_options = deeplabcut.create_project.modelzoo.Modeloptions\n",
        "model_selection = widgets.Dropdown(\n",
        "    options=model_options,\n",
        "    value=model_options[0],\n",
        "    description=\"Choose a DLC ModelZoo model!\",\n",
        "    disabled=False\n",
        ")\n",
        "display(model_selection)"
      ],
      "execution_count": null,
      "outputs": [
        {
          "output_type": "display_data",
          "data": {
            "application/vnd.jupyter.widget-view+json": {
              "model_id": "2b37297848304eb0b8b81ad7c2fcfa29",
              "version_minor": 0,
              "version_major": 2
            },
            "text/plain": [
              "Dropdown(description='Choose a DLC ModelZoo model!', options=('full_human', 'full_cat', 'full_dog', 'primate_f…"
            ]
          },
          "metadata": {
            "tags": []
          }
        }
      ]
    },
    {
      "cell_type": "code",
      "metadata": {
        "id": "UV0QXswGCFrI"
      },
      "source": [
        "ProjectFolderName = 'myDLC_modelZoo'\n",
        "YourName = 'teamDLC'\n",
        "model2use = model_selection.value # see http://www.mousemotorlab.org/dlc-modelzoo for the list! (curently: full_dog, full_cat, full_human, primate_face)\n",
        "videotype = os.path.splitext(video_path)[-1].lstrip('.') #or MOV, or avi, whatever you uploaded!"
      ],
      "execution_count": null,
      "outputs": []
    },
    {
      "cell_type": "markdown",
      "metadata": {
        "id": "JQxko-t3uMVO"
      },
      "source": [
        "## Attention on this step !! \n",
        "- Please note that for optimal performance your videos should contain frames that are around ~300-600 pixels (on one edge). If you have a larger video (like from an iPhone, first downsize by running this please! :)\n",
        "\n",
        "- Thus, if you're using an iPhone, or such, you'll need to downsample the video first by running the code below**\n",
        "\n",
        "(no need to edit it unless you want to change the size)"
      ]
    },
    {
      "cell_type": "code",
      "metadata": {
        "id": "WpAX3BKY94e0",
        "outputId": "a8948d8a-9440-4238-818c-35cd6526413d",
        "colab": {
          "base_uri": "https://localhost:8080/",
          "height": 51
        }
      },
      "source": [
        "deeplabcut.DownSampleVideo(video_path, width=300)\n",
        "\n",
        "import os\n",
        "from pathlib import Path\n",
        "video_path=os.path.join(str(Path(video_path).stem)+'downsampled.'+videotype)\n",
        "print(video_path)"
      ],
      "execution_count": null,
      "outputs": [
        {
          "output_type": "stream",
          "text": [
            "Downsampling and saving to name 20150813ISA_DSC_3557downsampled.MOV\n",
            "20150813ISA_DSC_3557downsampled.MOV\n"
          ],
          "name": "stdout"
        }
      ]
    },
    {
      "cell_type": "markdown",
      "metadata": {
        "id": "KJm_Vbx-s5OY"
      },
      "source": [
        "## Lastly, run the cell below to create a pretrained project, analyze your video with your selected pretrained network, plot trajectories, and create a labeled video!:\n"
      ]
    },
    {
      "cell_type": "code",
      "metadata": {
        "id": "T9MGgAdIFKPY",
        "outputId": "0846b4e2-3d79-46d6-b3a0-e8081a5d3476",
        "colab": {
          "base_uri": "https://localhost:8080/",
          "height": 1000
        }
      },
      "source": [
        "path_config_file = deeplabcut.create_pretrained_project(ProjectFolderName, YourName, video_path, videotype=videotype, \n",
        "                                      model=model2use, analyzevideo=True, createlabeledvideo=True, copy_videos=True) #must leave copy_videos=True"
      ],
      "execution_count": null,
      "outputs": [
        {
          "output_type": "stream",
          "text": [
            "Created \"/content/myDLC_modelZoo-teamDLC-2020-10-22/videos\"\n",
            "Created \"/content/myDLC_modelZoo-teamDLC-2020-10-22/labeled-data\"\n",
            "Created \"/content/myDLC_modelZoo-teamDLC-2020-10-22/training-datasets\"\n",
            "Created \"/content/myDLC_modelZoo-teamDLC-2020-10-22/dlc-models\"\n",
            "3  videos from the directory . were added to the project.\n",
            "Copying the videos\n",
            "/content/myDLC_modelZoo-teamDLC-2020-10-22/videos/20150813ISA_DSC_3557downsampled.MOV\n",
            "/content/myDLC_modelZoo-teamDLC-2020-10-22/videos/20150813ISA_DSC_3556.MOV\n",
            "/content/myDLC_modelZoo-teamDLC-2020-10-22/videos/20150813ISA_DSC_3557.MOV\n",
            "Generated \"/content/myDLC_modelZoo-teamDLC-2020-10-22/config.yaml\"\n",
            "\n",
            "A new project with name myDLC_modelZoo-teamDLC-2020-10-22 is created at /content and a configurable file (config.yaml) is stored there. Change the parameters in this file to adapt to your project's needs.\n",
            " Once you have changed the configuration file, use the function 'extract_frames' to select frames for labeling.\n",
            ". [OPTIONAL] Use the function 'add_new_videos' to add new videos to your project (at any stage).\n",
            "Dowloading weights...\n"
          ],
          "name": "stdout"
        },
        {
          "output_type": "stream",
          "text": [
            "  0%|          | 8192/183328728 [00:00<57:01, 53573.67B/s]"
          ],
          "name": "stderr"
        },
        {
          "output_type": "stream",
          "text": [
            "Downloading the model from the DeepLabCut server @Harvard -> Go Crimson!!! http://deeplabcut.rowland.harvard.edu/models/DLC_Dog_resnet_50_iteration-0_shuffle-0.tar.gz....\n"
          ],
          "name": "stdout"
        },
        {
          "output_type": "stream",
          "text": [
            "100%|█████████▉| 183058432/183328728 [00:45<00:00, 5857130.36B/s]"
          ],
          "name": "stderr"
        },
        {
          "output_type": "stream",
          "text": [
            "/content/myDLC_modelZoo-teamDLC-2020-10-22/dlc-models/iteration-0/myDLC_modelZooOct22-trainset95shuffle1/train/pose_cfg.yaml\n",
            "Analyzing video...\n",
            "Using snapshot-75000 for model /content/myDLC_modelZoo-teamDLC-2020-10-22/dlc-models/iteration-0/myDLC_modelZooOct22-trainset95shuffle1\n",
            "Initializing ResNet\n",
            "INFO:tensorflow:Restoring parameters from /content/myDLC_modelZoo-teamDLC-2020-10-22/dlc-models/iteration-0/myDLC_modelZooOct22-trainset95shuffle1/train/snapshot-75000\n"
          ],
          "name": "stdout"
        },
        {
          "output_type": "stream",
          "text": [
            "INFO:tensorflow:Restoring parameters from /content/myDLC_modelZoo-teamDLC-2020-10-22/dlc-models/iteration-0/myDLC_modelZooOct22-trainset95shuffle1/train/snapshot-75000\n",
            "\n",
            "  0%|          | 0/297 [00:00<?, ?it/s]\u001b[A"
          ],
          "name": "stderr"
        },
        {
          "output_type": "stream",
          "text": [
            "Analyzing all the videos in the directory\n",
            "Starting to analyze %  20150813ISA_DSC_3557.MOV\n",
            "Loading  20150813ISA_DSC_3557.MOV\n",
            "Duration of video [s]:  9.91 , recorded with  29.97 fps!\n",
            "Overall # of frames:  297  found with (before cropping) frame dimensions:  1920 1080\n",
            "Starting to extract posture\n"
          ],
          "name": "stdout"
        },
        {
          "output_type": "stream",
          "text": [
            "\n",
            "  7%|▋         | 20/297 [00:02<00:35,  7.82it/s]\u001b[A\n",
            " 10%|█         | 30/297 [00:03<00:34,  7.79it/s]\u001b[A\n",
            " 13%|█▎        | 40/297 [00:05<00:33,  7.76it/s]\u001b[A\n",
            " 17%|█▋        | 50/297 [00:07<00:39,  6.20it/s]\u001b[A\n",
            "183336960B [01:00, 5857130.36B/s]                                \n",
            " 24%|██▎       | 70/297 [00:10<00:33,  6.78it/s]\u001b[A\n",
            " 27%|██▋       | 80/297 [00:11<00:30,  7.09it/s]\u001b[A\n",
            " 30%|███       | 90/297 [00:13<00:35,  5.86it/s]\u001b[A\n",
            " 34%|███▎      | 100/297 [00:15<00:31,  6.31it/s]\u001b[A\n",
            " 37%|███▋      | 110/297 [00:16<00:27,  6.70it/s]\u001b[A\n",
            " 40%|████      | 120/297 [00:17<00:25,  6.98it/s]\u001b[A\n",
            " 44%|████▍     | 130/297 [00:20<00:28,  5.78it/s]\u001b[A\n",
            " 47%|████▋     | 140/297 [00:21<00:25,  6.28it/s]\u001b[A\n",
            " 51%|█████     | 150/297 [00:22<00:22,  6.63it/s]\u001b[A\n",
            " 54%|█████▍    | 160/297 [00:24<00:19,  6.90it/s]\u001b[A\n",
            " 57%|█████▋    | 170/297 [00:26<00:22,  5.77it/s]\u001b[A\n",
            " 61%|██████    | 180/297 [00:27<00:18,  6.24it/s]\u001b[A\n",
            " 64%|██████▍   | 190/297 [00:29<00:16,  6.60it/s]\u001b[A\n",
            " 67%|██████▋   | 200/297 [00:30<00:13,  6.94it/s]\u001b[A\n",
            " 71%|███████   | 210/297 [00:32<00:15,  5.77it/s]\u001b[A\n",
            " 74%|███████▍  | 220/297 [00:34<00:12,  6.22it/s]\u001b[A\n",
            " 77%|███████▋  | 230/297 [00:35<00:10,  6.61it/s]\u001b[A\n",
            " 81%|████████  | 240/297 [00:36<00:08,  6.93it/s]\u001b[A\n",
            " 84%|████████▍ | 250/297 [00:39<00:08,  5.74it/s]\u001b[A\n",
            " 88%|████████▊ | 260/297 [00:40<00:05,  6.23it/s]\u001b[A\n",
            " 91%|█████████ | 270/297 [00:41<00:04,  6.60it/s]\u001b[A\n",
            " 94%|█████████▍| 280/297 [00:43<00:02,  6.82it/s]\u001b[A\n",
            " 98%|█████████▊| 290/297 [00:45<00:01,  5.70it/s]\u001b[A\n",
            "300it [00:46,  6.12it/s]                         \u001b[A"
          ],
          "name": "stderr"
        },
        {
          "output_type": "stream",
          "text": [
            "Detected frames:  297\n"
          ],
          "name": "stdout"
        },
        {
          "output_type": "stream",
          "text": [
            "\r300it [00:49,  6.10it/s]\n",
            "\n",
            "  0%|          | 0/897 [00:00<?, ?it/s]\u001b[A"
          ],
          "name": "stderr"
        },
        {
          "output_type": "stream",
          "text": [
            "Saving results in ....\n",
            "Saving csv poses!\n",
            "Starting to analyze %  20150813ISA_DSC_3556.MOV\n",
            "Loading  20150813ISA_DSC_3556.MOV\n",
            "Duration of video [s]:  29.93 , recorded with  29.97 fps!\n",
            "Overall # of frames:  897  found with (before cropping) frame dimensions:  1920 1080\n",
            "Starting to extract posture\n"
          ],
          "name": "stdout"
        },
        {
          "output_type": "stream",
          "text": [
            "\n",
            "  2%|▏         | 20/897 [00:01<00:58, 14.87it/s]\u001b[A\n",
            "  3%|▎         | 30/897 [00:02<01:15, 11.50it/s]\u001b[A\n",
            "  4%|▍         | 40/897 [00:04<01:26,  9.88it/s]\u001b[A\n",
            "  6%|▌         | 50/897 [00:06<02:02,  6.93it/s]\u001b[A\n",
            "  7%|▋         | 60/897 [00:07<01:58,  7.06it/s]\u001b[A\n",
            "  8%|▊         | 70/897 [00:09<01:55,  7.14it/s]\u001b[A\n",
            "  9%|▉         | 80/897 [00:10<01:52,  7.28it/s]\u001b[A\n",
            " 10%|█         | 90/897 [00:13<02:18,  5.83it/s]\u001b[A\n",
            " 11%|█         | 100/897 [00:14<02:07,  6.23it/s]\u001b[A\n",
            " 12%|█▏        | 110/897 [00:15<01:59,  6.57it/s]\u001b[A\n",
            " 13%|█▎        | 120/897 [00:17<01:53,  6.83it/s]\u001b[A\n",
            " 14%|█▍        | 130/897 [00:19<02:16,  5.61it/s]\u001b[A\n",
            " 16%|█▌        | 140/897 [00:20<02:04,  6.09it/s]\u001b[A\n",
            " 17%|█▋        | 150/897 [00:22<01:56,  6.42it/s]\u001b[A\n",
            " 18%|█▊        | 160/897 [00:23<01:50,  6.67it/s]\u001b[A\n",
            " 19%|█▉        | 170/897 [00:26<02:10,  5.57it/s]\u001b[A\n",
            " 20%|██        | 180/897 [00:27<01:59,  6.02it/s]\u001b[A\n",
            " 21%|██        | 190/897 [00:28<01:51,  6.37it/s]\u001b[A\n",
            " 22%|██▏       | 200/897 [00:30<01:44,  6.68it/s]\u001b[A\n",
            " 23%|██▎       | 210/897 [00:32<02:03,  5.54it/s]\u001b[A\n",
            " 25%|██▍       | 220/897 [00:33<01:53,  5.98it/s]\u001b[A\n",
            " 26%|██▌       | 230/897 [00:35<01:45,  6.34it/s]\u001b[A\n",
            " 27%|██▋       | 240/897 [00:36<01:39,  6.63it/s]\u001b[A\n",
            " 28%|██▊       | 250/897 [00:39<01:57,  5.52it/s]\u001b[A\n",
            " 29%|██▉       | 260/897 [00:40<01:46,  5.97it/s]\u001b[A\n",
            " 30%|███       | 270/897 [00:41<01:38,  6.33it/s]\u001b[A\n",
            " 31%|███       | 280/897 [00:43<01:33,  6.58it/s]\u001b[A\n",
            " 32%|███▏      | 290/897 [00:45<01:50,  5.50it/s]\u001b[A\n",
            " 33%|███▎      | 300/897 [00:47<01:40,  5.94it/s]\u001b[A\n",
            " 35%|███▍      | 310/897 [00:48<01:33,  6.29it/s]\u001b[A\n",
            " 36%|███▌      | 320/897 [00:49<01:27,  6.60it/s]\u001b[A\n",
            " 37%|███▋      | 330/897 [00:52<01:44,  5.45it/s]\u001b[A\n",
            " 38%|███▊      | 340/897 [00:53<01:34,  5.91it/s]\u001b[A\n",
            " 39%|███▉      | 350/897 [00:55<01:27,  6.26it/s]\u001b[A\n",
            " 40%|████      | 360/897 [00:56<01:22,  6.54it/s]\u001b[A\n",
            " 41%|████      | 370/897 [00:59<01:37,  5.40it/s]\u001b[A\n",
            " 42%|████▏     | 380/897 [01:00<01:28,  5.87it/s]\u001b[A\n",
            " 43%|████▎     | 390/897 [01:01<01:21,  6.22it/s]\u001b[A\n",
            " 45%|████▍     | 400/897 [01:03<01:16,  6.50it/s]\u001b[A\n",
            " 46%|████▌     | 410/897 [01:05<01:29,  5.45it/s]\u001b[A\n",
            " 47%|████▋     | 420/897 [01:07<01:20,  5.90it/s]\u001b[A\n",
            " 48%|████▊     | 430/897 [01:08<01:15,  6.21it/s]\u001b[A\n",
            " 49%|████▉     | 440/897 [01:09<01:10,  6.50it/s]\u001b[A\n",
            " 50%|█████     | 450/897 [01:12<01:23,  5.38it/s]\u001b[A\n",
            " 51%|█████▏    | 460/897 [01:13<01:15,  5.81it/s]\u001b[A\n",
            " 52%|█████▏    | 470/897 [01:15<01:08,  6.20it/s]\u001b[A\n",
            " 54%|█████▎    | 480/897 [01:16<01:04,  6.49it/s]\u001b[A\n",
            " 55%|█████▍    | 490/897 [01:19<01:15,  5.37it/s]\u001b[A\n",
            " 56%|█████▌    | 500/897 [01:20<01:07,  5.85it/s]\u001b[A\n",
            " 57%|█████▋    | 510/897 [01:22<01:02,  6.18it/s]\u001b[A\n",
            " 58%|█████▊    | 520/897 [01:23<00:58,  6.44it/s]\u001b[A\n",
            " 59%|█████▉    | 530/897 [01:26<01:08,  5.39it/s]\u001b[A\n",
            " 60%|██████    | 540/897 [01:27<01:01,  5.82it/s]\u001b[A\n",
            " 61%|██████▏   | 550/897 [01:28<00:56,  6.17it/s]\u001b[A\n",
            " 62%|██████▏   | 560/897 [01:30<00:52,  6.48it/s]\u001b[A\n",
            " 64%|██████▎   | 570/897 [01:32<01:01,  5.35it/s]\u001b[A\n",
            " 65%|██████▍   | 580/897 [01:34<00:54,  5.78it/s]\u001b[A\n",
            " 66%|██████▌   | 590/897 [01:35<00:49,  6.16it/s]\u001b[A\n",
            " 67%|██████▋   | 600/897 [01:36<00:45,  6.47it/s]\u001b[A\n",
            " 68%|██████▊   | 610/897 [01:39<00:53,  5.34it/s]\u001b[A\n",
            " 69%|██████▉   | 620/897 [01:40<00:47,  5.80it/s]\u001b[A\n",
            " 70%|███████   | 630/897 [01:42<00:43,  6.14it/s]\u001b[A\n",
            " 71%|███████▏  | 640/897 [01:43<00:40,  6.40it/s]\u001b[A\n",
            " 72%|███████▏  | 650/897 [01:46<00:46,  5.33it/s]\u001b[A\n",
            " 74%|███████▎  | 660/897 [01:47<00:41,  5.75it/s]\u001b[A\n",
            " 75%|███████▍  | 670/897 [01:49<00:37,  6.09it/s]\u001b[A\n",
            " 76%|███████▌  | 680/897 [01:50<00:33,  6.40it/s]\u001b[A\n",
            " 77%|███████▋  | 690/897 [01:53<00:38,  5.31it/s]\u001b[A\n",
            " 78%|███████▊  | 700/897 [01:54<00:34,  5.76it/s]\u001b[A\n",
            " 79%|███████▉  | 710/897 [01:56<00:30,  6.16it/s]\u001b[A\n",
            " 80%|████████  | 720/897 [01:57<00:27,  6.41it/s]\u001b[A\n",
            " 81%|████████▏ | 730/897 [02:00<00:31,  5.32it/s]\u001b[A\n",
            " 82%|████████▏ | 740/897 [02:01<00:27,  5.80it/s]\u001b[A\n",
            " 84%|████████▎ | 750/897 [02:02<00:23,  6.13it/s]\u001b[A\n",
            " 85%|████████▍ | 760/897 [02:04<00:21,  6.42it/s]\u001b[A\n",
            " 86%|████████▌ | 770/897 [02:06<00:23,  5.38it/s]\u001b[A\n",
            " 87%|████████▋ | 780/897 [02:08<00:20,  5.82it/s]\u001b[A\n",
            " 88%|████████▊ | 790/897 [02:09<00:17,  6.16it/s]\u001b[A\n",
            " 89%|████████▉ | 800/897 [02:10<00:15,  6.46it/s]\u001b[A\n",
            " 90%|█████████ | 810/897 [02:13<00:16,  5.37it/s]\u001b[A\n",
            " 91%|█████████▏| 820/897 [02:14<00:13,  5.80it/s]\u001b[A\n",
            " 93%|█████████▎| 830/897 [02:16<00:10,  6.21it/s]\u001b[A\n",
            " 94%|█████████▎| 840/897 [02:17<00:08,  6.49it/s]\u001b[A\n",
            " 95%|█████████▍| 850/897 [02:20<00:08,  5.38it/s]\u001b[A\n",
            " 96%|█████████▌| 860/897 [02:21<00:06,  5.85it/s]\u001b[A\n",
            " 97%|█████████▋| 870/897 [02:23<00:04,  6.18it/s]\u001b[A\n",
            " 98%|█████████▊| 880/897 [02:24<00:02,  6.43it/s]\u001b[A\n",
            " 99%|█████████▉| 890/897 [02:26<00:01,  5.38it/s]\u001b[A\n",
            "900it [02:28,  5.81it/s]                         \u001b[A"
          ],
          "name": "stderr"
        },
        {
          "output_type": "stream",
          "text": [
            "Detected frames:  897\n"
          ],
          "name": "stdout"
        },
        {
          "output_type": "stream",
          "text": [
            "\r900it [02:30,  5.96it/s]\n",
            "\n",
            "  0%|          | 0/297 [00:00<?, ?it/s]\u001b[A"
          ],
          "name": "stderr"
        },
        {
          "output_type": "stream",
          "text": [
            "Saving results in ....\n",
            "Saving csv poses!\n",
            "Starting to analyze %  20150813ISA_DSC_3557downsampled.MOV\n",
            "Loading  20150813ISA_DSC_3557downsampled.MOV\n",
            "Duration of video [s]:  9.91 , recorded with  29.97 fps!\n",
            "Overall # of frames:  297  found with (before cropping) frame dimensions:  300 200\n",
            "Starting to extract posture\n"
          ],
          "name": "stdout"
        },
        {
          "output_type": "stream",
          "text": [
            "\n",
            "  7%|▋         | 20/297 [00:00<00:11, 23.92it/s]\u001b[A\n",
            " 13%|█▎        | 40/297 [00:00<00:07, 32.50it/s]\u001b[A\n",
            " 20%|██        | 60/297 [00:01<00:05, 42.35it/s]\u001b[A\n",
            " 30%|███       | 90/297 [00:01<00:03, 54.48it/s]\u001b[A\n",
            " 40%|████      | 120/297 [00:01<00:02, 69.83it/s]\u001b[A\n",
            " 47%|████▋     | 140/297 [00:01<00:01, 82.35it/s]\u001b[A\n",
            " 57%|█████▋    | 170/297 [00:01<00:01, 96.56it/s]\u001b[A\n",
            " 67%|██████▋   | 200/297 [00:01<00:00, 114.78it/s]\u001b[A\n",
            " 74%|███████▍  | 220/297 [00:02<00:00, 122.13it/s]\u001b[A\n",
            " 84%|████████▍ | 250/297 [00:02<00:00, 131.63it/s]\u001b[A\n",
            " 91%|█████████ | 270/297 [00:02<00:00, 146.09it/s]\u001b[A\n",
            "300it [00:02, 116.03it/s]                         \n",
            "\n",
            "0it [00:00, ?it/s]\u001b[A"
          ],
          "name": "stderr"
        },
        {
          "output_type": "stream",
          "text": [
            "Detected frames:  297\n",
            "Saving results in ....\n",
            "Saving csv poses!\n",
            "The videos are analyzed. Now your research can truly start! \n",
            " You can create labeled videos with 'create_labeled_video'.\n",
            "If the tracking is not satisfactory for some videos, consider expanding the training set. You can use the function 'extract_outlier_frames' to extract any outlier frames!\n",
            "Analyzing all the videos in the directory\n",
            "Filtering with median model 20150813ISA_DSC_3557downsampled.MOV\n"
          ],
          "name": "stdout"
        },
        {
          "output_type": "stream",
          "text": [
            "\n",
            "20it [00:00, 126.51it/s]\n",
            "\n",
            "0it [00:00, ?it/s]\u001b[A\n",
            "20it [00:00, 134.85it/s]"
          ],
          "name": "stderr"
        },
        {
          "output_type": "stream",
          "text": [
            "Saving filtered csv poses!\n",
            "Filtering with median model 20150813ISA_DSC_3557.MOV\n"
          ],
          "name": "stdout"
        },
        {
          "output_type": "stream",
          "text": [
            "\n",
            "\n",
            "0it [00:00, ?it/s]\u001b[A\n",
            "20it [00:00, 128.78it/s]"
          ],
          "name": "stderr"
        },
        {
          "output_type": "stream",
          "text": [
            "Saving filtered csv poses!\n",
            "Filtering with median model 20150813ISA_DSC_3556.MOV\n"
          ],
          "name": "stdout"
        },
        {
          "output_type": "stream",
          "text": [
            "\n"
          ],
          "name": "stderr"
        },
        {
          "output_type": "stream",
          "text": [
            "Saving filtered csv poses!\n",
            "Plotting results...\n",
            "Analyzing all the videos in the directory\n",
            "Starting %  . ['/content/myDLC_modelZoo-teamDLC-2020-10-22/videos']\n",
            "Loading  20150813ISA_DSC_3557.MOV and data.\n"
          ],
          "name": "stdout"
        },
        {
          "output_type": "stream",
          "text": [
            "\n",
            "  0%|          | 0/297 [00:00<?, ?it/s]\u001b[A\n",
            "  1%|          | 2/297 [00:00<00:18, 15.98it/s]\u001b[A"
          ],
          "name": "stderr"
        },
        {
          "output_type": "stream",
          "text": [
            "297\n",
            "Duration of video [s]:  9.91 , recorded with  29.97 fps!\n",
            "Overall # of frames:  297 with cropped frame dimensions:  1920 1080\n",
            "Generating frames and creating video.\n"
          ],
          "name": "stdout"
        },
        {
          "output_type": "stream",
          "text": [
            "\n",
            "  2%|▏         | 5/297 [00:00<00:16, 18.13it/s]\u001b[A\n",
            "  3%|▎         | 8/297 [00:00<00:14, 20.45it/s]\u001b[A\n",
            "  4%|▎         | 11/297 [00:00<00:12, 22.49it/s]\u001b[A\n",
            "  5%|▍         | 14/297 [00:00<00:11, 24.13it/s]\u001b[A\n",
            "  6%|▌         | 17/297 [00:00<00:11, 24.15it/s]\u001b[A\n",
            "  7%|▋         | 20/297 [00:00<00:10, 25.27it/s]\u001b[A\n",
            "  8%|▊         | 24/297 [00:00<00:09, 27.32it/s]\u001b[A\n",
            "  9%|▉         | 27/297 [00:01<00:09, 27.40it/s]\u001b[A\n",
            " 10%|█         | 30/297 [00:01<00:09, 27.33it/s]\u001b[A\n",
            " 11%|█         | 33/297 [00:01<00:09, 27.56it/s]\u001b[A\n",
            " 12%|█▏        | 37/297 [00:01<00:08, 28.93it/s]\u001b[A\n",
            " 13%|█▎        | 40/297 [00:01<00:09, 27.99it/s]\u001b[A\n",
            " 14%|█▍        | 43/297 [00:01<00:09, 28.21it/s]\u001b[A\n",
            " 15%|█▌        | 46/297 [00:01<00:09, 26.04it/s]\u001b[A\n",
            " 16%|█▋        | 49/297 [00:01<00:09, 26.14it/s]\u001b[A\n",
            " 18%|█▊        | 53/297 [00:01<00:08, 27.25it/s]\u001b[A\n",
            " 19%|█▉        | 56/297 [00:02<00:08, 27.86it/s]\u001b[A\n",
            " 20%|█▉        | 59/297 [00:02<00:08, 28.01it/s]\u001b[A\n",
            " 21%|██        | 62/297 [00:02<00:08, 26.42it/s]\u001b[A\n",
            " 22%|██▏       | 65/297 [00:02<00:08, 27.17it/s]\u001b[A\n",
            " 23%|██▎       | 69/297 [00:02<00:08, 28.40it/s]\u001b[A\n",
            " 25%|██▍       | 73/297 [00:02<00:07, 29.36it/s]\u001b[A\n",
            " 26%|██▌       | 76/297 [00:02<00:08, 27.60it/s]\u001b[A\n",
            " 27%|██▋       | 80/297 [00:02<00:07, 28.45it/s]\u001b[A\n",
            " 28%|██▊       | 84/297 [00:03<00:07, 29.17it/s]\u001b[A\n",
            " 29%|██▉       | 87/297 [00:03<00:07, 28.89it/s]\u001b[A\n",
            " 30%|███       | 90/297 [00:03<00:07, 28.40it/s]\u001b[A\n",
            " 31%|███▏      | 93/297 [00:03<00:07, 28.69it/s]\u001b[A\n",
            " 32%|███▏      | 96/297 [00:03<00:06, 29.02it/s]\u001b[A\n",
            " 33%|███▎      | 99/297 [00:03<00:06, 29.09it/s]\u001b[A\n",
            " 34%|███▍      | 102/297 [00:03<00:06, 29.27it/s]\u001b[A\n",
            " 35%|███▌      | 105/297 [00:03<00:06, 27.51it/s]\u001b[A\n",
            " 36%|███▋      | 108/297 [00:03<00:06, 27.85it/s]\u001b[A\n",
            " 37%|███▋      | 111/297 [00:03<00:06, 28.23it/s]\u001b[A\n",
            " 39%|███▊      | 115/297 [00:04<00:06, 29.26it/s]\u001b[A\n",
            " 40%|████      | 119/297 [00:04<00:05, 29.81it/s]\u001b[A\n",
            " 41%|████      | 122/297 [00:04<00:06, 28.50it/s]\u001b[A\n",
            " 42%|████▏     | 126/297 [00:04<00:05, 29.55it/s]\u001b[A\n",
            " 43%|████▎     | 129/297 [00:04<00:05, 29.37it/s]\u001b[A\n",
            " 45%|████▍     | 133/297 [00:04<00:05, 30.25it/s]\u001b[A\n",
            " 46%|████▌     | 137/297 [00:04<00:05, 28.95it/s]\u001b[A\n",
            " 47%|████▋     | 141/297 [00:04<00:05, 30.22it/s]\u001b[A\n",
            " 49%|████▉     | 145/297 [00:05<00:04, 30.45it/s]\u001b[A\n",
            " 50%|█████     | 149/297 [00:05<00:04, 30.80it/s]\u001b[A\n",
            " 52%|█████▏    | 153/297 [00:05<00:04, 29.23it/s]\u001b[A\n",
            " 53%|█████▎    | 157/297 [00:05<00:04, 30.02it/s]\u001b[A\n",
            " 54%|█████▍    | 161/297 [00:05<00:04, 29.95it/s]\u001b[A\n",
            " 56%|█████▌    | 165/297 [00:05<00:04, 28.96it/s]\u001b[A\n",
            " 57%|█████▋    | 169/297 [00:05<00:04, 29.82it/s]\u001b[A\n",
            " 58%|█████▊    | 173/297 [00:06<00:04, 29.35it/s]\u001b[A\n",
            " 59%|█████▉    | 176/297 [00:06<00:04, 29.35it/s]\u001b[A\n",
            " 60%|██████    | 179/297 [00:06<00:04, 29.25it/s]\u001b[A\n",
            " 61%|██████▏   | 182/297 [00:06<00:04, 27.86it/s]\u001b[A\n",
            " 63%|██████▎   | 186/297 [00:06<00:03, 29.12it/s]\u001b[A\n",
            " 64%|██████▍   | 190/297 [00:06<00:03, 29.98it/s]\u001b[A\n",
            " 65%|██████▌   | 194/297 [00:06<00:03, 29.92it/s]\u001b[A\n",
            " 67%|██████▋   | 198/297 [00:06<00:03, 29.15it/s]\u001b[A\n",
            " 68%|██████▊   | 202/297 [00:07<00:03, 29.74it/s]\u001b[A\n",
            " 69%|██████▉   | 206/297 [00:07<00:03, 30.21it/s]\u001b[A\n",
            " 71%|███████   | 210/297 [00:07<00:03, 28.32it/s]\u001b[A\n",
            " 72%|███████▏  | 214/297 [00:07<00:02, 29.62it/s]\u001b[A\n",
            " 73%|███████▎  | 218/297 [00:07<00:02, 30.28it/s]\u001b[A\n",
            " 75%|███████▍  | 222/297 [00:07<00:02, 31.12it/s]\u001b[A\n",
            " 76%|███████▌  | 226/297 [00:07<00:02, 29.07it/s]\u001b[A\n",
            " 77%|███████▋  | 229/297 [00:07<00:02, 29.33it/s]\u001b[A\n",
            " 78%|███████▊  | 233/297 [00:08<00:02, 29.85it/s]\u001b[A\n",
            " 80%|███████▉  | 237/297 [00:08<00:01, 30.38it/s]\u001b[A\n",
            " 81%|████████  | 241/297 [00:08<00:01, 28.51it/s]\u001b[A\n",
            " 82%|████████▏ | 245/297 [00:08<00:01, 29.50it/s]\u001b[A\n",
            " 84%|████████▍ | 249/297 [00:08<00:01, 30.49it/s]\u001b[A\n",
            " 85%|████████▌ | 253/297 [00:08<00:01, 30.99it/s]\u001b[A\n",
            " 87%|████████▋ | 257/297 [00:08<00:01, 29.06it/s]\u001b[A\n",
            " 88%|████████▊ | 261/297 [00:09<00:01, 30.05it/s]\u001b[A\n",
            " 89%|████████▉ | 265/297 [00:09<00:01, 29.87it/s]\u001b[A\n",
            " 91%|█████████ | 269/297 [00:09<00:00, 28.99it/s]\u001b[A\n",
            " 92%|█████████▏| 272/297 [00:09<00:00, 27.72it/s]\u001b[A\n",
            " 93%|█████████▎| 276/297 [00:09<00:00, 29.05it/s]\u001b[A\n",
            " 94%|█████████▍| 279/297 [00:09<00:00, 28.88it/s]\u001b[A\n",
            " 95%|█████████▍| 282/297 [00:09<00:00, 29.13it/s]\u001b[A\n",
            " 96%|█████████▌| 285/297 [00:09<00:00, 26.66it/s]\u001b[A\n",
            " 97%|█████████▋| 288/297 [00:09<00:00, 27.38it/s]\u001b[A\n",
            " 98%|█████████▊| 292/297 [00:10<00:00, 28.74it/s]\u001b[A\n",
            "100%|██████████| 297/297 [00:10<00:00, 29.00it/s]\n",
            "\n",
            "  0%|          | 0/897 [00:00<?, ?it/s]\u001b[A"
          ],
          "name": "stderr"
        },
        {
          "output_type": "stream",
          "text": [
            "Starting %  . ['/content/myDLC_modelZoo-teamDLC-2020-10-22/videos']\n",
            "Loading  20150813ISA_DSC_3556.MOV and data.\n",
            "897\n",
            "Duration of video [s]:  29.93 , recorded with  29.97 fps!\n",
            "Overall # of frames:  897 with cropped frame dimensions:  1920 1080\n",
            "Generating frames and creating video.\n"
          ],
          "name": "stdout"
        },
        {
          "output_type": "stream",
          "text": [
            "\n",
            "  0%|          | 2/897 [00:00<00:52, 17.12it/s]\u001b[A\n",
            "  1%|          | 5/897 [00:00<00:45, 19.57it/s]\u001b[A\n",
            "  1%|          | 9/897 [00:00<00:40, 22.14it/s]\u001b[A\n",
            "  1%|▏         | 13/897 [00:00<00:36, 24.40it/s]\u001b[A\n",
            "  2%|▏         | 16/897 [00:00<00:35, 24.85it/s]\u001b[A\n",
            "  2%|▏         | 19/897 [00:00<00:35, 24.53it/s]\u001b[A\n",
            "  2%|▏         | 22/897 [00:00<00:33, 25.86it/s]\u001b[A\n",
            "  3%|▎         | 25/897 [00:00<00:32, 26.63it/s]\u001b[A\n",
            "  3%|▎         | 29/897 [00:01<00:31, 27.61it/s]\u001b[A\n",
            "  4%|▎         | 32/897 [00:01<00:31, 27.31it/s]\u001b[A\n",
            "  4%|▍         | 35/897 [00:01<00:30, 27.87it/s]\u001b[A\n",
            "  4%|▍         | 38/897 [00:01<00:30, 28.04it/s]\u001b[A\n",
            "  5%|▍         | 41/897 [00:01<00:30, 28.17it/s]\u001b[A\n",
            "  5%|▍         | 44/897 [00:01<00:32, 26.36it/s]\u001b[A\n",
            "  5%|▌         | 47/897 [00:01<00:32, 26.44it/s]\u001b[A\n",
            "  6%|▌         | 50/897 [00:01<00:31, 26.73it/s]\u001b[A\n",
            "  6%|▌         | 53/897 [00:01<00:30, 27.54it/s]\u001b[A\n",
            "  6%|▌         | 56/897 [00:02<00:30, 27.66it/s]\u001b[A\n",
            "  7%|▋         | 59/897 [00:02<00:29, 28.14it/s]\u001b[A\n",
            "  7%|▋         | 62/897 [00:02<00:30, 27.26it/s]\u001b[A\n",
            "  7%|▋         | 65/897 [00:02<00:29, 27.76it/s]\u001b[A\n",
            "  8%|▊         | 68/897 [00:02<00:29, 28.01it/s]\u001b[A\n",
            "  8%|▊         | 71/897 [00:02<00:29, 28.31it/s]\u001b[A\n",
            "  8%|▊         | 74/897 [00:02<00:28, 28.70it/s]\u001b[A\n",
            "  9%|▊         | 77/897 [00:02<00:29, 28.07it/s]\u001b[A\n",
            "  9%|▉         | 80/897 [00:02<00:28, 28.56it/s]\u001b[A\n",
            "  9%|▉         | 83/897 [00:02<00:28, 28.14it/s]\u001b[A\n",
            " 10%|▉         | 86/897 [00:03<00:28, 28.24it/s]\u001b[A\n",
            " 10%|▉         | 89/897 [00:03<00:28, 28.31it/s]\u001b[A\n",
            " 10%|█         | 92/897 [00:03<00:29, 27.54it/s]\u001b[A\n",
            " 11%|█         | 95/897 [00:03<00:28, 28.02it/s]\u001b[A\n",
            " 11%|█         | 98/897 [00:03<00:28, 28.21it/s]\u001b[A\n",
            " 11%|█▏        | 101/897 [00:03<00:29, 26.94it/s]\u001b[A\n",
            " 12%|█▏        | 104/897 [00:03<00:29, 27.17it/s]\u001b[A\n",
            " 12%|█▏        | 107/897 [00:03<00:29, 26.63it/s]\u001b[A\n",
            " 12%|█▏        | 110/897 [00:03<00:28, 27.52it/s]\u001b[A\n",
            " 13%|█▎        | 113/897 [00:04<00:28, 27.45it/s]\u001b[A\n",
            " 13%|█▎        | 116/897 [00:04<00:27, 27.92it/s]\u001b[A\n",
            " 13%|█▎        | 119/897 [00:04<00:27, 28.31it/s]\u001b[A\n",
            " 14%|█▎        | 122/897 [00:04<00:28, 27.38it/s]\u001b[A\n",
            " 14%|█▍        | 126/897 [00:04<00:27, 28.55it/s]\u001b[A\n",
            " 14%|█▍        | 130/897 [00:04<00:26, 29.48it/s]\u001b[A\n",
            " 15%|█▍        | 134/897 [00:04<00:25, 30.00it/s]\u001b[A\n",
            " 15%|█▌        | 138/897 [00:04<00:25, 29.32it/s]\u001b[A\n",
            " 16%|█▌        | 142/897 [00:05<00:25, 30.03it/s]\u001b[A\n",
            " 16%|█▋        | 146/897 [00:05<00:24, 30.28it/s]\u001b[A\n",
            " 17%|█▋        | 150/897 [00:05<00:25, 28.83it/s]\u001b[A\n",
            " 17%|█▋        | 154/897 [00:05<00:24, 29.82it/s]\u001b[A\n",
            " 18%|█▊        | 158/897 [00:05<00:24, 30.31it/s]\u001b[A\n",
            " 18%|█▊        | 162/897 [00:05<00:23, 30.67it/s]\u001b[A\n",
            " 19%|█▊        | 166/897 [00:05<00:25, 29.23it/s]\u001b[A\n",
            " 19%|█▉        | 170/897 [00:06<00:24, 29.53it/s]\u001b[A\n",
            " 19%|█▉        | 173/897 [00:06<00:24, 29.35it/s]\u001b[A\n",
            " 20%|█▉        | 176/897 [00:06<00:24, 29.44it/s]\u001b[A\n",
            " 20%|█▉        | 179/897 [00:06<00:24, 28.94it/s]\u001b[A\n",
            " 20%|██        | 182/897 [00:06<00:25, 27.98it/s]\u001b[A\n",
            " 21%|██        | 185/897 [00:06<00:24, 28.52it/s]\u001b[A\n",
            " 21%|██        | 188/897 [00:06<00:24, 28.85it/s]\u001b[A\n",
            " 21%|██▏       | 191/897 [00:06<00:24, 29.04it/s]\u001b[A\n",
            " 22%|██▏       | 194/897 [00:06<00:24, 28.91it/s]\u001b[A\n",
            " 22%|██▏       | 197/897 [00:06<00:24, 28.32it/s]\u001b[A\n",
            " 22%|██▏       | 200/897 [00:07<00:24, 28.49it/s]\u001b[A\n",
            " 23%|██▎       | 203/897 [00:07<00:24, 28.90it/s]\u001b[A\n",
            " 23%|██▎       | 207/897 [00:07<00:23, 29.59it/s]\u001b[A\n",
            " 23%|██▎       | 210/897 [00:07<00:24, 28.29it/s]\u001b[A\n",
            " 24%|██▎       | 213/897 [00:07<00:23, 28.68it/s]\u001b[A\n",
            " 24%|██▍       | 216/897 [00:07<00:24, 28.23it/s]\u001b[A\n",
            " 24%|██▍       | 219/897 [00:07<00:23, 28.71it/s]\u001b[A\n",
            " 25%|██▍       | 222/897 [00:07<00:23, 28.99it/s]\u001b[A\n",
            " 25%|██▌       | 225/897 [00:07<00:23, 28.42it/s]\u001b[A\n",
            " 25%|██▌       | 228/897 [00:08<00:23, 28.42it/s]\u001b[A\n",
            " 26%|██▌       | 232/897 [00:08<00:22, 29.43it/s]\u001b[A\n",
            " 26%|██▋       | 236/897 [00:08<00:21, 30.19it/s]\u001b[A\n",
            " 27%|██▋       | 240/897 [00:08<00:21, 30.77it/s]\u001b[A\n",
            " 27%|██▋       | 244/897 [00:08<00:20, 31.58it/s]\u001b[A\n",
            " 28%|██▊       | 248/897 [00:08<00:20, 31.44it/s]\u001b[A\n",
            " 28%|██▊       | 252/897 [00:08<00:20, 31.58it/s]\u001b[A\n",
            " 29%|██▊       | 256/897 [00:08<00:20, 30.71it/s]\u001b[A\n",
            " 29%|██▉       | 260/897 [00:09<00:20, 30.34it/s]\u001b[A\n",
            " 29%|██▉       | 264/897 [00:09<00:21, 30.04it/s]\u001b[A\n",
            " 30%|██▉       | 268/897 [00:09<00:21, 29.89it/s]\u001b[A\n",
            " 30%|███       | 271/897 [00:09<00:21, 28.87it/s]\u001b[A\n",
            " 31%|███       | 274/897 [00:09<00:21, 28.62it/s]\u001b[A\n",
            " 31%|███       | 278/897 [00:09<00:21, 29.37it/s]\u001b[A\n",
            " 31%|███▏      | 282/897 [00:09<00:20, 29.84it/s]\u001b[A\n",
            " 32%|███▏      | 285/897 [00:09<00:21, 29.14it/s]\u001b[A\n",
            " 32%|███▏      | 288/897 [00:10<00:21, 28.88it/s]\u001b[A\n",
            " 32%|███▏      | 291/897 [00:10<00:20, 28.99it/s]\u001b[A\n",
            " 33%|███▎      | 294/897 [00:10<00:20, 28.95it/s]\u001b[A\n",
            " 33%|███▎      | 297/897 [00:10<00:20, 28.94it/s]\u001b[A\n",
            " 33%|███▎      | 300/897 [00:10<00:20, 28.71it/s]\u001b[A\n",
            " 34%|███▍      | 304/897 [00:10<00:19, 30.20it/s]\u001b[A\n",
            " 34%|███▍      | 308/897 [00:10<00:20, 29.34it/s]\u001b[A\n",
            " 35%|███▍      | 312/897 [00:10<00:19, 30.05it/s]\u001b[A\n",
            " 35%|███▌      | 316/897 [00:10<00:19, 29.20it/s]\u001b[A\n",
            " 36%|███▌      | 319/897 [00:11<00:20, 28.12it/s]\u001b[A\n",
            " 36%|███▌      | 322/897 [00:11<00:20, 28.39it/s]\u001b[A\n",
            " 36%|███▋      | 326/897 [00:11<00:19, 29.48it/s]\u001b[A\n",
            " 37%|███▋      | 330/897 [00:11<00:18, 30.16it/s]\u001b[A\n",
            " 37%|███▋      | 334/897 [00:11<00:18, 30.74it/s]\u001b[A\n",
            " 38%|███▊      | 338/897 [00:11<00:18, 29.69it/s]\u001b[A\n",
            " 38%|███▊      | 341/897 [00:11<00:20, 27.55it/s]\u001b[A\n",
            " 38%|███▊      | 344/897 [00:11<00:19, 28.11it/s]\u001b[A\n",
            " 39%|███▊      | 347/897 [00:12<00:19, 28.25it/s]\u001b[A\n",
            " 39%|███▉      | 351/897 [00:12<00:19, 28.23it/s]\u001b[A\n",
            " 39%|███▉      | 354/897 [00:12<00:19, 28.41it/s]\u001b[A\n",
            " 40%|███▉      | 358/897 [00:12<00:18, 29.24it/s]\u001b[A\n",
            " 40%|████      | 361/897 [00:12<00:19, 27.58it/s]\u001b[A\n",
            " 41%|████      | 364/897 [00:12<00:19, 27.80it/s]\u001b[A\n",
            " 41%|████      | 367/897 [00:12<00:18, 27.92it/s]\u001b[A\n",
            " 41%|████▏     | 371/897 [00:12<00:18, 28.77it/s]\u001b[A\n",
            " 42%|████▏     | 375/897 [00:13<00:18, 28.21it/s]\u001b[A\n",
            " 42%|████▏     | 378/897 [00:13<00:18, 28.61it/s]\u001b[A\n",
            " 43%|████▎     | 382/897 [00:13<00:17, 29.56it/s]\u001b[A\n",
            " 43%|████▎     | 386/897 [00:13<00:16, 30.10it/s]\u001b[A\n",
            " 43%|████▎     | 390/897 [00:13<00:17, 29.30it/s]\u001b[A\n",
            " 44%|████▍     | 394/897 [00:13<00:16, 30.01it/s]\u001b[A\n",
            " 44%|████▍     | 398/897 [00:13<00:16, 30.73it/s]\u001b[A\n",
            " 45%|████▍     | 402/897 [00:13<00:15, 31.19it/s]\u001b[A\n",
            " 45%|████▌     | 406/897 [00:14<00:16, 29.86it/s]\u001b[A\n",
            " 46%|████▌     | 410/897 [00:14<00:16, 30.34it/s]\u001b[A\n",
            " 46%|████▌     | 414/897 [00:14<00:15, 30.73it/s]\u001b[A\n",
            " 47%|████▋     | 418/897 [00:14<00:15, 30.52it/s]\u001b[A\n",
            " 47%|████▋     | 422/897 [00:14<00:16, 28.74it/s]\u001b[A\n",
            " 47%|████▋     | 426/897 [00:14<00:15, 29.98it/s]\u001b[A\n",
            " 48%|████▊     | 430/897 [00:14<00:15, 30.77it/s]\u001b[A\n",
            " 48%|████▊     | 434/897 [00:14<00:14, 31.07it/s]\u001b[A\n",
            " 49%|████▉     | 438/897 [00:15<00:15, 29.73it/s]\u001b[A\n",
            " 49%|████▉     | 442/897 [00:15<00:14, 30.34it/s]\u001b[A\n",
            " 50%|████▉     | 446/897 [00:15<00:14, 30.96it/s]\u001b[A\n",
            " 50%|█████     | 450/897 [00:15<00:15, 29.06it/s]\u001b[A\n",
            " 51%|█████     | 454/897 [00:15<00:14, 30.40it/s]\u001b[A\n",
            " 51%|█████     | 458/897 [00:15<00:14, 31.03it/s]\u001b[A\n",
            " 52%|█████▏    | 462/897 [00:15<00:13, 31.64it/s]\u001b[A\n",
            " 52%|█████▏    | 466/897 [00:16<00:14, 30.05it/s]\u001b[A\n",
            " 52%|█████▏    | 470/897 [00:16<00:14, 30.16it/s]\u001b[A\n",
            " 53%|█████▎    | 474/897 [00:16<00:13, 30.76it/s]\u001b[A\n",
            " 53%|█████▎    | 478/897 [00:16<00:13, 31.18it/s]\u001b[A\n",
            " 54%|█████▎    | 482/897 [00:16<00:13, 30.92it/s]\u001b[A\n",
            " 54%|█████▍    | 486/897 [00:16<00:12, 32.03it/s]\u001b[A\n",
            " 55%|█████▍    | 490/897 [00:16<00:12, 32.91it/s]\u001b[A\n",
            " 55%|█████▌    | 494/897 [00:16<00:12, 33.51it/s]\u001b[A\n",
            " 56%|█████▌    | 498/897 [00:17<00:12, 31.47it/s]\u001b[A\n",
            " 56%|█████▌    | 502/897 [00:17<00:12, 32.45it/s]\u001b[A\n",
            " 56%|█████▋    | 506/897 [00:17<00:12, 31.75it/s]\u001b[A\n",
            " 57%|█████▋    | 510/897 [00:17<00:12, 30.94it/s]\u001b[A\n",
            " 57%|█████▋    | 514/897 [00:17<00:12, 31.35it/s]\u001b[A\n",
            " 58%|█████▊    | 518/897 [00:17<00:11, 31.98it/s]\u001b[A\n",
            " 58%|█████▊    | 522/897 [00:17<00:11, 32.79it/s]\u001b[A\n",
            " 59%|█████▊    | 526/897 [00:17<00:11, 31.33it/s]\u001b[A\n",
            " 59%|█████▉    | 530/897 [00:18<00:11, 32.09it/s]\u001b[A\n",
            " 60%|█████▉    | 534/897 [00:18<00:10, 33.03it/s]\u001b[A\n",
            " 60%|█████▉    | 538/897 [00:18<00:10, 32.89it/s]\u001b[A\n",
            " 60%|██████    | 542/897 [00:18<00:11, 30.56it/s]\u001b[A\n",
            " 61%|██████    | 546/897 [00:18<00:10, 31.99it/s]\u001b[A\n",
            " 61%|██████▏   | 550/897 [00:18<00:10, 32.57it/s]\u001b[A\n",
            " 62%|██████▏   | 554/897 [00:18<00:10, 33.23it/s]\u001b[A\n",
            " 62%|██████▏   | 558/897 [00:18<00:10, 32.11it/s]\u001b[A\n",
            " 63%|██████▎   | 562/897 [00:18<00:10, 32.56it/s]\u001b[A\n",
            " 63%|██████▎   | 566/897 [00:19<00:10, 32.79it/s]\u001b[A\n",
            " 64%|██████▎   | 570/897 [00:19<00:10, 30.46it/s]\u001b[A\n",
            " 64%|██████▍   | 574/897 [00:19<00:10, 32.26it/s]\u001b[A\n",
            " 64%|██████▍   | 578/897 [00:19<00:09, 32.63it/s]\u001b[A\n",
            " 65%|██████▍   | 582/897 [00:19<00:09, 33.53it/s]\u001b[A\n",
            " 65%|██████▌   | 586/897 [00:19<00:09, 31.99it/s]\u001b[A\n",
            " 66%|██████▌   | 590/897 [00:19<00:09, 33.09it/s]\u001b[A\n",
            " 66%|██████▌   | 594/897 [00:19<00:08, 34.63it/s]\u001b[A\n",
            " 67%|██████▋   | 598/897 [00:20<00:08, 35.60it/s]\u001b[A\n",
            " 67%|██████▋   | 602/897 [00:20<00:08, 33.59it/s]\u001b[A\n",
            " 68%|██████▊   | 606/897 [00:20<00:08, 34.40it/s]\u001b[A\n",
            " 68%|██████▊   | 610/897 [00:20<00:08, 35.73it/s]\u001b[A\n",
            " 68%|██████▊   | 614/897 [00:20<00:07, 36.27it/s]\u001b[A\n",
            " 69%|██████▉   | 618/897 [00:20<00:07, 35.66it/s]\u001b[A\n",
            " 69%|██████▉   | 622/897 [00:20<00:07, 36.65it/s]\u001b[A\n",
            " 70%|██████▉   | 626/897 [00:20<00:07, 36.23it/s]\u001b[A\n",
            " 70%|███████   | 630/897 [00:20<00:07, 35.06it/s]\u001b[A\n",
            " 71%|███████   | 634/897 [00:21<00:07, 35.20it/s]\u001b[A\n",
            " 71%|███████   | 638/897 [00:21<00:07, 35.62it/s]\u001b[A\n",
            " 72%|███████▏  | 642/897 [00:21<00:07, 35.61it/s]\u001b[A\n",
            " 72%|███████▏  | 646/897 [00:21<00:07, 33.94it/s]\u001b[A\n",
            " 72%|███████▏  | 650/897 [00:21<00:07, 34.43it/s]\u001b[A\n",
            " 73%|███████▎  | 654/897 [00:21<00:07, 34.25it/s]\u001b[A\n",
            " 73%|███████▎  | 658/897 [00:21<00:06, 35.06it/s]\u001b[A\n",
            " 74%|███████▍  | 662/897 [00:21<00:07, 32.94it/s]\u001b[A\n",
            " 74%|███████▍  | 666/897 [00:22<00:06, 33.96it/s]\u001b[A\n",
            " 75%|███████▍  | 670/897 [00:22<00:06, 34.68it/s]\u001b[A\n",
            " 75%|███████▌  | 674/897 [00:22<00:06, 33.56it/s]\u001b[A\n",
            " 76%|███████▌  | 678/897 [00:22<00:06, 33.56it/s]\u001b[A\n",
            " 76%|███████▌  | 682/897 [00:22<00:06, 33.97it/s]\u001b[A\n",
            " 76%|███████▋  | 686/897 [00:22<00:06, 34.70it/s]\u001b[A\n",
            " 77%|███████▋  | 690/897 [00:22<00:06, 34.05it/s]\u001b[A\n",
            " 77%|███████▋  | 694/897 [00:22<00:05, 35.29it/s]\u001b[A\n",
            " 78%|███████▊  | 698/897 [00:22<00:05, 35.67it/s]\u001b[A\n",
            " 78%|███████▊  | 702/897 [00:23<00:05, 35.31it/s]\u001b[A\n",
            " 79%|███████▊  | 706/897 [00:23<00:05, 33.20it/s]\u001b[A\n",
            " 79%|███████▉  | 710/897 [00:23<00:05, 32.72it/s]\u001b[A\n",
            " 80%|███████▉  | 714/897 [00:23<00:05, 31.91it/s]\u001b[A\n",
            " 80%|████████  | 718/897 [00:23<00:05, 30.52it/s]\u001b[A\n",
            " 80%|████████  | 722/897 [00:23<00:05, 29.81it/s]\u001b[A\n",
            " 81%|████████  | 726/897 [00:23<00:05, 30.59it/s]\u001b[A\n",
            " 81%|████████▏ | 730/897 [00:23<00:05, 31.19it/s]\u001b[A\n",
            " 82%|████████▏ | 734/897 [00:24<00:05, 31.27it/s]\u001b[A\n",
            " 82%|████████▏ | 738/897 [00:24<00:05, 28.28it/s]\u001b[A\n",
            " 83%|████████▎ | 741/897 [00:24<00:05, 28.63it/s]\u001b[A\n",
            " 83%|████████▎ | 744/897 [00:24<00:05, 28.65it/s]\u001b[A\n",
            " 83%|████████▎ | 748/897 [00:24<00:04, 29.85it/s]\u001b[A\n",
            " 84%|████████▍ | 752/897 [00:24<00:05, 28.92it/s]\u001b[A\n",
            " 84%|████████▍ | 755/897 [00:24<00:04, 28.89it/s]\u001b[A\n",
            " 85%|████████▍ | 758/897 [00:24<00:04, 29.13it/s]\u001b[A\n",
            " 85%|████████▍ | 761/897 [00:25<00:04, 29.20it/s]\u001b[A\n",
            " 85%|████████▌ | 765/897 [00:25<00:04, 28.54it/s]\u001b[A\n",
            " 86%|████████▌ | 769/897 [00:25<00:04, 29.33it/s]\u001b[A\n",
            " 86%|████████▌ | 773/897 [00:25<00:04, 29.96it/s]\u001b[A\n",
            " 87%|████████▋ | 777/897 [00:25<00:03, 30.98it/s]\u001b[A\n",
            " 87%|████████▋ | 781/897 [00:25<00:03, 29.88it/s]\u001b[A\n",
            " 88%|████████▊ | 785/897 [00:25<00:03, 30.03it/s]\u001b[A\n",
            " 88%|████████▊ | 789/897 [00:25<00:03, 30.31it/s]\u001b[A\n",
            " 88%|████████▊ | 793/897 [00:26<00:03, 30.98it/s]\u001b[A\n",
            " 89%|████████▉ | 797/897 [00:26<00:03, 28.56it/s]\u001b[A\n",
            " 89%|████████▉ | 801/897 [00:26<00:03, 29.66it/s]\u001b[A\n",
            " 90%|████████▉ | 805/897 [00:26<00:02, 30.84it/s]\u001b[A\n",
            " 90%|█████████ | 809/897 [00:26<00:02, 31.17it/s]\u001b[A\n",
            " 91%|█████████ | 813/897 [00:26<00:02, 29.98it/s]\u001b[A\n",
            " 91%|█████████ | 817/897 [00:26<00:02, 30.89it/s]\u001b[A\n",
            " 92%|█████████▏| 821/897 [00:27<00:02, 31.30it/s]\u001b[A\n",
            " 92%|█████████▏| 825/897 [00:27<00:02, 28.81it/s]\u001b[A\n",
            " 92%|█████████▏| 829/897 [00:27<00:02, 29.45it/s]\u001b[A\n",
            " 93%|█████████▎| 833/897 [00:27<00:02, 30.02it/s]\u001b[A\n",
            " 93%|█████████▎| 837/897 [00:27<00:01, 30.65it/s]\u001b[A\n",
            " 94%|█████████▍| 841/897 [00:27<00:01, 29.16it/s]\u001b[A\n",
            " 94%|█████████▍| 844/897 [00:27<00:01, 29.17it/s]\u001b[A\n",
            " 95%|█████████▍| 848/897 [00:27<00:01, 29.85it/s]\u001b[A\n",
            " 95%|█████████▍| 852/897 [00:28<00:01, 30.86it/s]\u001b[A\n",
            " 95%|█████████▌| 856/897 [00:28<00:01, 29.76it/s]\u001b[A\n",
            " 96%|█████████▌| 860/897 [00:28<00:01, 29.33it/s]\u001b[A\n",
            " 96%|█████████▋| 864/897 [00:28<00:01, 30.18it/s]\u001b[A\n",
            " 97%|█████████▋| 868/897 [00:28<00:00, 31.15it/s]\u001b[A\n",
            " 97%|█████████▋| 872/897 [00:28<00:00, 29.62it/s]\u001b[A\n",
            " 98%|█████████▊| 876/897 [00:28<00:00, 30.16it/s]\u001b[A\n",
            " 98%|█████████▊| 880/897 [00:29<00:00, 30.86it/s]\u001b[A\n",
            " 99%|█████████▊| 884/897 [00:29<00:00, 31.28it/s]\u001b[A\n",
            " 99%|█████████▉| 888/897 [00:29<00:00, 29.88it/s]\u001b[A\n",
            " 99%|█████████▉| 892/897 [00:29<00:00, 29.61it/s]\u001b[A\n",
            "100%|██████████| 897/897 [00:29<00:00, 30.33it/s]\n",
            "\n",
            "  0%|          | 0/297 [00:00<?, ?it/s]\u001b[A\n",
            " 23%|██▎       | 68/297 [00:00<00:00, 677.18it/s]\u001b[A"
          ],
          "name": "stderr"
        },
        {
          "output_type": "stream",
          "text": [
            "Starting %  . ['/content/myDLC_modelZoo-teamDLC-2020-10-22/videos']\n",
            "Loading  20150813ISA_DSC_3557downsampled.MOV and data.\n",
            "297\n",
            "Duration of video [s]:  9.91 , recorded with  29.97 fps!\n",
            "Overall # of frames:  297 with cropped frame dimensions:  300 200\n",
            "Generating frames and creating video.\n"
          ],
          "name": "stdout"
        },
        {
          "output_type": "stream",
          "text": [
            "\n",
            " 43%|████▎     | 128/297 [00:00<00:00, 650.15it/s]\u001b[A\n",
            " 61%|██████    | 180/297 [00:00<00:00, 603.81it/s]\u001b[A\n",
            "100%|██████████| 297/297 [00:00<00:00, 592.65it/s]\n"
          ],
          "name": "stderr"
        },
        {
          "output_type": "stream",
          "text": [
            "Analyzing all the videos in the directory\n",
            "20150813ISA_DSC_3557downsampled.MOV\n",
            "Starting %  . 20150813ISA_DSC_3557downsampled.MOV\n",
            "Loading  20150813ISA_DSC_3557downsampled.MOV and data.\n",
            ".  already exists!\n",
            "20150813ISA_DSC_3556.MOV\n",
            "Starting %  . 20150813ISA_DSC_3556.MOV\n",
            "Loading  20150813ISA_DSC_3556.MOV and data.\n",
            ".  already exists!\n",
            "./plot-poses  already exists!\n",
            "20150813ISA_DSC_3557.MOV\n",
            "Starting %  . 20150813ISA_DSC_3557.MOV\n",
            "Loading  20150813ISA_DSC_3557.MOV and data.\n",
            ".  already exists!\n",
            "./plot-poses  already exists!\n",
            "Plots created! Please check the directory \"plot-poses\" within the video directory\n"
          ],
          "name": "stdout"
        }
      ]
    },
    {
      "cell_type": "markdown",
      "metadata": {
        "id": "WS-KxhBMvEBj"
      },
      "source": [
        "Now, you can move this project from Colab (i.e. download it to your GoogleDrive), and use it like a normal standard project! \n",
        "\n",
        "You can analyze more videos, extract outliers, refine then, and/or then add new key points + label new frames, and retrain if desired. We hope this gives you a good launching point for your work!\n",
        "\n",
        "###Happy DeepLabCutting! Welcome to the Zoo :)\n",
        "\n"
      ]
    },
    {
      "cell_type": "markdown",
      "metadata": {
        "id": "KPOqiLmo6d7t"
      },
      "source": [
        "## More advanced options: \n",
        "\n",
        "- If you would now like to customize the video/plots - i.e., color, dot size, threshold for the point to be plotted (pcutoff), please simply edit the \"config.yaml\" file by updating the values below:"
      ]
    },
    {
      "cell_type": "code",
      "metadata": {
        "id": "yGLNVK1q6rIp",
        "outputId": "89fc7705-a23c-461e-8393-b96a1b7dc03a",
        "colab": {
          "base_uri": "https://localhost:8080/",
          "height": 731
        }
      },
      "source": [
        "# Updating the plotting within the config.yaml file (without opening it ;):\n",
        "\n",
        "#dotsize: size of the dots!\n",
        "#colormap: any matplotlib colormap!\n",
        "#pcutoff: the higher the more conservative the plotting!\n",
        "\n",
        "config_path = path_config_file[0]\n",
        "edits = {'dotsize': 7,\n",
        "          'colormap': 'spring',\n",
        "          'pcutoff': 0.5}\n",
        "deeplabcut.auxiliaryfunctions.edit_config(config_path, edits)"
      ],
      "execution_count": null,
      "outputs": [
        {
          "output_type": "execute_result",
          "data": {
            "text/plain": [
              "{'Task': 'myDLC_modelZoo',\n",
              " 'TrainingFraction': [0.95],\n",
              " 'alphavalue': 0.7,\n",
              " 'batch_size': 8,\n",
              " 'bodyparts': ['ankle1',\n",
              "  'knee1',\n",
              "  'hip1',\n",
              "  'hip2',\n",
              "  'knee2',\n",
              "  'ankle2',\n",
              "  'wrist1',\n",
              "  'elbow1',\n",
              "  'shoulder1',\n",
              "  'shoulder2',\n",
              "  'elbow2',\n",
              "  'wrist2',\n",
              "  'chin',\n",
              "  'forehead'],\n",
              " 'colormap': 'spring',\n",
              " 'corner2move2': [50, 50],\n",
              " 'cropping': False,\n",
              " 'date': 'Oct22',\n",
              " 'default_augmenter': 'default',\n",
              " 'default_net_type': 'resnet_101',\n",
              " 'dotsize': 7,\n",
              " 'iteration': 0,\n",
              " 'move2corner': True,\n",
              " 'numframes2pick': 20,\n",
              " 'pcutoff': 0.5,\n",
              " 'project_path': '/content/myDLC_modelZoo-teamDLC-2020-10-22',\n",
              " 'resnet': None,\n",
              " 'scorer': 'teamDLC',\n",
              " 'skeleton': [],\n",
              " 'skeleton_color': 'black',\n",
              " 'snapshotindex': -1,\n",
              " 'start': 0,\n",
              " 'stop': 1,\n",
              " 'video_sets': {'/content/myDLC_modelZoo-teamDLC-2020-10-22/videos/20150813ISA_DSC_3557.MOV': {'crop': '0, 1920, 0, 1080'}},\n",
              " 'x1': 0,\n",
              " 'x2': 640,\n",
              " 'y1': 277,\n",
              " 'y2': 624}"
            ]
          },
          "metadata": {
            "tags": []
          },
          "execution_count": 16
        }
      ]
    },
    {
      "cell_type": "code",
      "metadata": {
        "id": "Vlc0wZgB7R5e",
        "outputId": "2799899f-dec3-4209-c481-401588fa986e",
        "colab": {
          "base_uri": "https://localhost:8080/",
          "height": 105
        }
      },
      "source": [
        "# re-create the labeled video (first you will need to delete in the folder to the LEFT!):\n",
        "from datetime import datetime\n",
        "#The name of the project you created:\n",
        "project_folder_name = '-'.join([ProjectFolderName, YourName, datetime.now().strftime('%Y-%m-%d')])\n",
        "\n",
        "full_video_path = videofile_path = ['/content/'+project_folder_name+'/videos/'+video_path]\n",
        "\n",
        "#filter predictions (should already be done above ;):\n",
        "deeplabcut.filterpredictions(config_path, full_video_path, videotype=videotype)\n",
        "\n",
        "#re-create the video with your edits!\n",
        "deeplabcut.create_labeled_video(config_path, full_video_path, videotype=videotype, filtered=True)"
      ],
      "execution_count": null,
      "outputs": [
        {
          "output_type": "stream",
          "text": [
            "Filtering with median model /content/myDLC_modelZoo-teamDLC-2020-10-22/videos/20150813ISA_DSC_3557.MOV\n",
            "Video already filtered... /content/myDLC_modelZoo-teamDLC-2020-10-22/videos/20150813ISA_DSC_3557DLC_resnet101_myDLC_modelZooOct22shuffle1_103000filtered.h5\n",
            "Starting %  /content/myDLC_modelZoo-teamDLC-2020-10-22/videos ['/content/myDLC_modelZoo-teamDLC-2020-10-22/videos/20150813ISA_DSC_3557.MOV']\n",
            "Loading  /content/myDLC_modelZoo-teamDLC-2020-10-22/videos/20150813ISA_DSC_3557.MOV and data.\n"
          ],
          "name": "stdout"
        }
      ]
    },
    {
      "cell_type": "code",
      "metadata": {
        "id": "C83YK1yu3VAf",
        "outputId": "b20f909a-ef79-4af0-f481-d0c6b908dfda",
        "colab": {
          "base_uri": "https://localhost:8080/",
          "height": 17
        }
      },
      "source": [
        "files.download('/content/myDLC_modelZoo-teamDLC-2020-10-22')"
      ],
      "execution_count": null,
      "outputs": [
        {
          "output_type": "display_data",
          "data": {
            "application/javascript": [
              "\n",
              "    async function download(id, filename, size) {\n",
              "      if (!google.colab.kernel.accessAllowed) {\n",
              "        return;\n",
              "      }\n",
              "      const div = document.createElement('div');\n",
              "      const label = document.createElement('label');\n",
              "      label.textContent = `Downloading \"${filename}\": `;\n",
              "      div.appendChild(label);\n",
              "      const progress = document.createElement('progress');\n",
              "      progress.max = size;\n",
              "      div.appendChild(progress);\n",
              "      document.body.appendChild(div);\n",
              "\n",
              "      const buffers = [];\n",
              "      let downloaded = 0;\n",
              "\n",
              "      const channel = await google.colab.kernel.comms.open(id);\n",
              "      // Send a message to notify the kernel that we're ready.\n",
              "      channel.send({})\n",
              "\n",
              "      for await (const message of channel.messages) {\n",
              "        // Send a message to notify the kernel that we're ready.\n",
              "        channel.send({})\n",
              "        if (message.buffers) {\n",
              "          for (const buffer of message.buffers) {\n",
              "            buffers.push(buffer);\n",
              "            downloaded += buffer.byteLength;\n",
              "            progress.value = downloaded;\n",
              "          }\n",
              "        }\n",
              "      }\n",
              "      const blob = new Blob(buffers, {type: 'application/binary'});\n",
              "      const a = document.createElement('a');\n",
              "      a.href = window.URL.createObjectURL(blob);\n",
              "      a.download = filename;\n",
              "      div.appendChild(a);\n",
              "      a.click();\n",
              "      div.remove();\n",
              "    }\n",
              "  "
            ],
            "text/plain": [
              "<IPython.core.display.Javascript object>"
            ]
          },
          "metadata": {
            "tags": []
          }
        },
        {
          "output_type": "display_data",
          "data": {
            "application/javascript": [
              "download(\"download_6c5b8508-eec1-4628-bee8-e0b91d3a54ed\", \"myDLC_modelZoo-teamDLC-2020-10-22\", 4096)"
            ],
            "text/plain": [
              "<IPython.core.display.Javascript object>"
            ]
          },
          "metadata": {
            "tags": []
          }
        }
      ]
    }
  ]
}